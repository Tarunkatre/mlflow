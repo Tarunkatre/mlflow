{
 "cells": [
  {
   "cell_type": "code",
   "execution_count": null,
   "id": "95360c85",
   "metadata": {},
   "outputs": [],
   "source": [
    "import pandas as pd\n",
    "import mlflow\n",
    "import mlflow.sklearn\n",
    "from urllib.parse import urlparse\n",
    "from sklearn.ensemble import RandomForestRegressor\n",
    "from sklearn.model_selection import train_test_split, GridSearchCV\n",
    "from sklearn.metrics import mean_squared_error\n",
    "from sklearn.datasets import fetch_california_housing\n",
    "from mlflow.models import infer_signature"
   ]
  },
  {
   "cell_type": "code",
   "execution_count": null,
   "id": "be0527e5",
   "metadata": {},
   "outputs": [],
   "source": [
    "\n",
    "def hyperparameter_tuning(x_train, y_train, param_grid):\n",
    "    rf = RandomForestRegressor()\n",
    "    grid_search = GridSearchCV(\n",
    "        estimator=rf,\n",
    "        param_grid=param_grid,\n",
    "        cv=3,\n",
    "        n_jobs=-1,\n",
    "        verbose=2,\n",
    "        scoring=\"neg_mean_squared_error\",\n",
    "    )\n",
    "    grid_search.fit(x_train, y_train)\n",
    "    return grid_search\n"
   ]
  },
  {
   "cell_type": "code",
   "execution_count": null,
   "id": "d56ea42b",
   "metadata": {},
   "outputs": [],
   "source": [
    "housing = fetch_california_housing()\n",
    "data = pd.DataFrame(housing.data, columns=housing.feature_names)\n",
    "data[\"price\"] = housing.target\n",
    "\n",
    "X = data.drop(columns=[\"price\"])\n",
    "y = data[\"price\"]\n",
    "\n",
    "X_train, X_test, y_train, y_test = train_test_split(X, y, test_size=0.20)\n",
    "\n",
    "signature = infer_signature(X_train, y_train)"
   ]
  },
  {
   "cell_type": "code",
   "execution_count": null,
   "id": "5ce30ed7",
   "metadata": {},
   "outputs": [],
   "source": [
    "param_grid = {\n",
    "        \"n_estimators\": [100, 200],\n",
    "        \"max_depth\": [5, 10, None],\n",
    "        \"min_samples_split\": [2, 5],\n",
    "        \"min_samples_leaf\": [1, 2],\n",
    "    }\n",
    "\n",
    "    # set tracking uri and experiment (adjust URI if needed)\n",
    "mlflow.set_tracking_uri(\"http://localhost:5000\")\n",
    "mlflow.set_experiment(\"house prediction experiment\")\n",
    "tracking_url_type = urlparse(mlflow.get_tracking_uri()).scheme"
   ]
  },
  {
   "cell_type": "code",
   "execution_count": null,
   "id": "7600cc80",
   "metadata": {},
   "outputs": [],
   "source": [
    "with mlflow.start_run():\n",
    "        grid_search = hyperparameter_tuning(X_train, y_train, param_grid)\n",
    "        best_model = grid_search.best_estimator_\n",
    "\n",
    "        y_pred = best_model.predict(X_test)\n",
    "        mse = mean_squared_error(y_test, y_pred)\n",
    "\n",
    "        mlflow.log_param(\"best_n_estimators\", grid_search.best_params_[\"n_estimators\"])\n",
    "        mlflow.log_param(\"best_max_depth\", grid_search.best_params_[\"max_depth\"])\n",
    "        mlflow.log_param(\n",
    "            \"best_min_sample_split\", grid_search.best_params_[\"min_samples_split\"]\n",
    "        )\n",
    "        mlflow.log_param(\n",
    "            \"best_min_sample_leaf\", grid_search.best_params_[\"min_samples_leaf\"]\n",
    "        )\n",
    "        mlflow.log_metric(\"mse\", mse)\n",
    "\n",
    "        if tracking_url_type != \"file\":\n",
    "            mlflow.sklearn.log_model(\n",
    "                best_model, \"model\", registered_model_name=\"Best randomforest Model\"\n",
    "            )\n",
    "        else:\n",
    "            mlflow.sklearn.log_model(best_model, \"model\", signature=signature)\n",
    "\n",
    "        print(f\"Best Hyperparameters : {grid_search.best_params_}\")\n",
    "        print(f\"mean squared error : {mse}\")"
   ]
  }
 ],
 "metadata": {
  "kernelspec": {
   "display_name": "venv (3.13.2)",
   "language": "python",
   "name": "python3"
  },
  "language_info": {
   "codemirror_mode": {
    "name": "ipython",
    "version": 3
   },
   "file_extension": ".py",
   "mimetype": "text/x-python",
   "name": "python",
   "nbconvert_exporter": "python",
   "pygments_lexer": "ipython3",
   "version": "3.13.2"
  }
 },
 "nbformat": 4,
 "nbformat_minor": 5
}
